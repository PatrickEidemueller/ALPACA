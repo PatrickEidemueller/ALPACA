{
 "cells": [
  {
   "cell_type": "markdown",
   "id": "a5f461e4",
   "metadata": {},
   "source": [
    "* Import libraries"
   ]
  },
  {
   "cell_type": "code",
   "execution_count": null,
   "id": "f314b1b4",
   "metadata": {},
   "outputs": [],
   "source": [
    "import pandas as pd\n",
    "import matplotlib.pyplot as plt\n",
    "import seaborn as sns\n",
    "from rdkit import Chem\n",
    "from rdkit.Chem import Draw\n",
    "import matplotlib.pyplot as plt\n",
    "import seaborn as sns\n",
    "from gensim.models import word2vec\n",
    "from mol2vec.features import mol2alt_sentence\n",
    "from mol2vec.helpers import IdentifierTable"
   ]
  },
  {
   "cell_type": "markdown",
   "id": "a378289f",
   "metadata": {},
   "source": [
    "* Sanofi provided us the dataset which includes different information about the molecules. The feature in our dataset are : Molecular Weight, Number of Rings, Minimum Degree, Smiles, Measured log solubility in mols per litre. We should preprocess the column Smiles which defines the chemical structure of the molecules."
   ]
  },
  {
   "cell_type": "code",
   "execution_count": null,
   "id": "ce1c9615",
   "metadata": {},
   "outputs": [],
   "source": [
    "df = pd.read_csv('../data/raw/esol.csv')\n",
    "print(df.shape)\n",
    "df.head()"
   ]
  },
  {
   "cell_type": "markdown",
   "id": "004717eb",
   "metadata": {},
   "source": [
    "* Convert smiles into RdKit mols and generate a list of identifiers for each molecule using the function mol2vec.mol2alt_sentence. We map each substructure to a particular identifier."
   ]
  },
  {
   "cell_type": "code",
   "execution_count": null,
   "id": "86240115",
   "metadata": {},
   "outputs": [],
   "source": [
    "def smiles_to_mols(df):\n",
    "    return [Chem.MolFromSmiles(x) for x in list(df['smiles'])]\n",
    "\n",
    "def mols_to_sentences(df):\n",
    "    return [mol2alt_sentence(mol, 1) for mol in mols]\n",
    "\n",
    "mols = smiles_to_mols(df)\n",
    "mol_sentences = mols_to_sentences(df)\n",
    "substructure_identifiers = {id for mol in mol_sentences for id in mol}\n",
    "\n",
    "print(f'Nr of Molecules : {len(mols)}')\n",
    "print(f'Nr of Unique Substructures : {len(substructure_identifiers)}')"
   ]
  },
  {
   "cell_type": "markdown",
   "id": "b90c4fef",
   "metadata": {},
   "source": [
    "* Plot the structure of the first n molecules to get a first overview and better understand the structure of our molecules."
   ]
  },
  {
   "cell_type": "code",
   "execution_count": null,
   "id": "9f36bdf5",
   "metadata": {},
   "outputs": [],
   "source": [
    "Draw.MolsToGridImage(mols[:1], molsPerRow=5, useSVG=False)"
   ]
  },
  {
   "cell_type": "markdown",
   "id": "e449bc55",
   "metadata": {},
   "source": [
    "* Plot the substructures and their corresponding identifier for a particular molecule\n",
    "* To depict all identifiers one can use IdentifierTable object -IdentifierTable(identifiers_to_depict, mols_containing_selected_identifiers, sentences_for_mols, number_of_columns, radius)"
   ]
  },
  {
   "cell_type": "code",
   "execution_count": null,
   "id": "d3265d16",
   "metadata": {},
   "outputs": [],
   "source": [
    "# lets plot the substructures and their corresponding identifiers of the first molecule\n",
    "IdentifierTable(mol_sentences[0][:9], mols, mol_sentences, 3, 1)"
   ]
  },
  {
   "cell_type": "markdown",
   "id": "74b1a0ba",
   "metadata": {},
   "source": [
    "* Mol2vec is based on Word2vec algorithm and we first have to encode molecules as sentences, meaning that each substructure (represented by Morgan identifier) represents a word. \n",
    "* Load a pre-trained Mol2vec model which was trained on 20 million compounds downloaded from ZINC using: radius 1, UNK to replace all identifiers that appear less than 4 times, skip-gram and window size of 10 (The window size controls the size of the context), resulting in 100 dimensional embeddings, \n",
    "* [ZINC](https://pubchem.ncbi.nlm.nih.gov/source/ZINC) is a free database of commercially-available compounds for virtual screening. ZINC contains tens of millions of purchasable compounds in ready-to-dock, 3D formats. ZINC is provided by the Irwin and Shoichet Laboratories in the Department of Pharmaceutical Chemistry at the University of California, San Francisco (UCSF).\n",
    "* An identifier is a unique number used to represent a substructure (word) of a molecule (sentence). The pre-trained Mol2vec model includes the feature vectors (representation) of 21003 substructures (vocabulary size).\n",
    "* The skip-gram model is a simple neural network with one hidden layer trained in order to predict the probability of a given word being present when an input word is present. In this architecture, it takes the current word as an input and tries to accurately predict the words before and after this current word. \n",
    "* Mol2vec pre-trained model has a dictionary where the key is the identifier (substructure) and the value is the corresponding feature vector."
   ]
  },
  {
   "cell_type": "code",
   "execution_count": null,
   "id": "189a9a53",
   "metadata": {},
   "outputs": [],
   "source": [
    "model = word2vec.Word2Vec.load(\"../models/model_100dim.pkl\")\n",
    "# vocabulary size (nr of substructures that are represented by a feature vector in our pretrained model)\n",
    "len(model.wv.key_to_index.keys())"
   ]
  },
  {
   "cell_type": "markdown",
   "id": "92e3fecc",
   "metadata": {},
   "source": [
    "\n",
    "* Plot the distribution (histogram) of the number of substructures among all molecules. "
   ]
  },
  {
   "cell_type": "code",
   "execution_count": null,
   "id": "b51606f2",
   "metadata": {},
   "outputs": [],
   "source": [
    "num_substructures = [len(sent) for sent in mol_sentences]\n",
    "plt.figure(figsize=(10, 8))\n",
    "sns.histplot(num_substructures)\n",
    "plt.xlabel('Number of Substructures in Molecule')\n",
    "plt.ylabel('Frequency')\n",
    "plt.show()"
   ]
  },
  {
   "cell_type": "markdown",
   "id": "b55b8ea5",
   "metadata": {},
   "source": [
    "* As a molecule is a sentence (list of identifiers) we get a list of feature vectors for each molecule.\n",
    "* To get a single vector representation per molecule we compute the mean of the feature vectors of the molecule's substructures. We can then use these feature vectors to build machine learning models for supervised or unsupervised tasks.\n",
    "* To perform the aforementioned steps, we implemented a function: For details see `feature_vectors.py`"
   ]
  },
  {
   "cell_type": "code",
   "execution_count": null,
   "id": "826455f7",
   "metadata": {},
   "outputs": [],
   "source": [
    "import sys\n",
    "sys.path.append(\"..\")\n",
    "from src.features.smiles_to_feature_vector import generate_feature_vectors_from_smiles\n",
    "generate_feature_vectors_from_smiles(df.loc[42:42, :]) # convert one molecule"
   ]
  },
  {
   "cell_type": "markdown",
   "id": "b3e2f857",
   "metadata": {},
   "source": [
    "* The Mol2Vec pretrained model does not have the vector representation for some identifiers. Let's analyse how often the problem occurs in our dataset:"
   ]
  },
  {
   "cell_type": "code",
   "execution_count": null,
   "id": "446e5311",
   "metadata": {},
   "outputs": [],
   "source": [
    "def count_num_available(sentence, model):\n",
    "    return len([id for id in sentence if id in model.wv])\n",
    "\n",
    "num_available = [count_num_available(sent, model) for sent in mol_sentences]\n",
    "ratio_available = [avail / all for avail, all in zip(num_available, num_substructures)]\n",
    "\n",
    "all_ids_available = [avail == all for avail, all in zip(num_available, num_substructures)]\n",
    "num_incomplete_sentences = len(mol_sentences) - sum(all_ids_available)\n",
    "print(\"Number of molecules that miss at least one identifier: \" + str(num_incomplete_sentences))\n",
    "print(\"This is \" + str(num_incomplete_sentences / len(mol_sentences) * 100) + \" % of the dataset\")\n"
   ]
  },
  {
   "cell_type": "markdown",
   "id": "f8027ff7",
   "metadata": {},
   "source": [
    "* Around 97% of molecules are completely contained in our pretrained model\n",
    "* We can also plot the frequency of the existing/available identifiers (substructures) for all molecules using a histogram, to analyse the remaining 3%:"
   ]
  },
  {
   "cell_type": "code",
   "execution_count": null,
   "id": "cce78f1f",
   "metadata": {},
   "outputs": [],
   "source": [
    "fig, axes = plt.subplots(1, 2, figsize=(13,4))\n",
    "sns.histplot(ax=axes[0], x=[n for n, all_avail in zip(num_available, all_ids_available) if not all_avail], bins=40)\n",
    "axes[0].set_title(f'Absolute number of available substructures\\n for molecules with missing ids')\n",
    "\n",
    "sns.histplot(ax=axes[1], x=[n for n, all_avail in zip(ratio_available, all_ids_available) if not all_avail], bins=50)\n",
    "axes[1].set_title(f'Ratio of available substructures\\n for molecules with missing ids')"
   ]
  },
  {
   "cell_type": "markdown",
   "id": "c8e133fe",
   "metadata": {},
   "source": [
    "* One molecule (check out boxplot) has only 1 identifier which has no available vector representation in our model. Therefore the relative frequency is equal to 0.  \n",
    "* Since for some molecules, many identifiers are missing, we would end up using not a good numerical representation of the molecule and it may lead to bad results in the model performance. So lets remove molecules that have this relative frequency lower than some specified threshold.\n",
    "* We can set this threshold with the parameter `existing_ids_threshold` of our function. The default is 1.0 which means all molecules with missing ids are removed"
   ]
  },
  {
   "cell_type": "code",
   "execution_count": null,
   "id": "129bb037",
   "metadata": {},
   "outputs": [],
   "source": [
    "vfs = generate_feature_vectors_from_smiles(df.loc[10:20, :], existing_ids_threshold=1.00)\n",
    "print(\"Indices of molecules for which feature vectors were generated (threshold = 100%):\")\n",
    "print(vfs.keys())\n",
    "\n",
    "vfs = generate_feature_vectors_from_smiles(df.loc[10:20, :], existing_ids_threshold=0.85)\n",
    "print(\"Indices of molecules for which feature vectors were generated (threshold = 85%):\")\n",
    "print(vfs.keys())"
   ]
  }
 ],
 "metadata": {
  "kernelspec": {
   "display_name": "Python 3.10.4 64-bit",
   "language": "python",
   "name": "python3"
  },
  "language_info": {
   "codemirror_mode": {
    "name": "ipython",
    "version": 3
   },
   "file_extension": ".py",
   "mimetype": "text/x-python",
   "name": "python",
   "nbconvert_exporter": "python",
   "pygments_lexer": "ipython3",
   "version": "3.10.4"
  },
  "vscode": {
   "interpreter": {
    "hash": "d6b94274bc38ccce8bb16952573b161db2a8573610a2e97c691473c339873840"
   }
  }
 },
 "nbformat": 4,
 "nbformat_minor": 5
}
