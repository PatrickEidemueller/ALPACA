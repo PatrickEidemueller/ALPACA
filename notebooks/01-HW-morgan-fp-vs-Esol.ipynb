{
 "cells": [
  {
   "cell_type": "code",
   "execution_count": null,
   "id": "f4d7ed73",
   "metadata": {},
   "outputs": [],
   "source": [
    "import numpy as np\n",
    "import pandas as pd\n",
    "from rdkit import Chem\n",
    "from rdkit.Chem import AllChem\n",
    "import matplotlib.pyplot as plt\n",
    "from sklearn.decomposition import PCA"
   ]
  },
  {
   "cell_type": "code",
   "execution_count": null,
   "id": "32bbbd18",
   "metadata": {},
   "outputs": [],
   "source": [
    "df_esol = pd.read_csv('../data/raw/esol.csv')\n",
    "df_smiles = df_esol[\"smiles\"]\n",
    "df_esol = df_esol[['Minimum Degree', 'Molecular Weight', 'Number of H-Bond Donors', 'Number of Rings',\n",
    "                   'Number of Rotatable Bonds', 'Polar Surface Area', 'measured log solubility in mols per litre']]\n",
    "df_esol = df_esol.rename(\n",
    "    columns={'measured log solubility in mols per litre': \"y\"})\n",
    "\n",
    "print(df_esol.head(5))\n"
   ]
  },
  {
   "cell_type": "code",
   "execution_count": null,
   "id": "f27980a1",
   "metadata": {},
   "outputs": [],
   "source": [
    "def generate_features(smiles):\n",
    "    mols = [Chem.MolFromSmiles(x) for x in list(smiles)]\n",
    "    mol_fps = pd.DataFrame()\n",
    "    for mol in mols:\n",
    "        mol_fp = AllChem.GetMorganFingerprintAsBitVect(mol, 2, nBits=2048)\n",
    "        mol_fpvec = np.array(mol_fp)\n",
    "        mol_fpvec = pd.DataFrame(mol_fpvec).T\n",
    "        mol_fps = pd.concat([mol_fps, mol_fpvec], axis=0)\n",
    "    return mol_fps\n"
   ]
  },
  {
   "cell_type": "code",
   "execution_count": null,
   "id": "e004db83",
   "metadata": {},
   "outputs": [],
   "source": [
    "df_molfps = generate_features(df_smiles)\n",
    "df_molfps\n"
   ]
  },
  {
   "cell_type": "code",
   "execution_count": null,
   "id": "ec0250a3",
   "metadata": {},
   "outputs": [],
   "source": [
    "# only for determining the number of components\n",
    "pca_c = PCA(n_components=200, whiten=True)\n",
    "molpfs_pca_c = pca_c.fit_transform(df_molfps)\n",
    "PC_values = np.arange(pca_c.n_components_) + 1\n",
    "plt.plot(PC_values, pca_c.explained_variance_ratio_,\n",
    "         'o-', linewidth=2, color='blue')\n",
    "plt.title('PCA_components')\n",
    "plt.xlabel('Principal Component')\n",
    "plt.ylabel('Variance Explained')\n",
    "plt.show()\n",
    "print(\"Components = \", pca_c.n_components_, \";\\nTotal explained variance = \",\n",
    "      round(pca_c.explained_variance_ratio_.sum(), 5))\n",
    "\n",
    "# PCA first 100 features (compare to moc2vec 100 features)\n",
    "ndims = 100\n",
    "pca = PCA(n_components=100, whiten=True)\n",
    "# fit the model to our data and extract the results\n",
    "molpfs_pca = pca.fit_transform(df_molfps)\n",
    "\n",
    "print(\"Components = \", pca.n_components_, \";\\nTotal explained variance = \",\n",
    "      round(pca.explained_variance_ratio_.sum(), 5))\n",
    "\n",
    "df_molpfs_pca = pd.DataFrame(molpfs_pca)\n",
    "df_molpfs_pca[\"y\"] = df_esol[\"y\"]\n",
    "df_molpfs_pca.head(5)\n",
    "df_molpfs_pca.to_csv(f\"../data/processed/esol_pca_{ndims}dims.csv\")\n"
   ]
  }
 ],
 "metadata": {
  "kernelspec": {
   "display_name": "Python 3",
   "language": "python",
   "name": "python3"
  },
  "language_info": {
   "codemirror_mode": {
    "name": "ipython",
    "version": 3
   },
   "file_extension": ".py",
   "mimetype": "text/x-python",
   "name": "python",
   "nbconvert_exporter": "python",
   "pygments_lexer": "ipython3",
   "version": "3.8.8"
  }
 },
 "nbformat": 4,
 "nbformat_minor": 5
}
